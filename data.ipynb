{
 "cells": [
  {
   "cell_type": "code",
   "execution_count": 1,
   "metadata": {},
   "outputs": [],
   "source": [
    "import cv2\n",
    "import os\n",
    "import glob\n",
    "import math\n",
    "import random\n",
    "import numpy as np\n",
    "from PIL import Image\n",
    "import matplotlib.pylab as plt\n",
    "from scipy.io import loadmat\n",
    "from sklearn.cluster import KMeans"
   ]
  },
  {
   "cell_type": "code",
   "execution_count": 13,
   "metadata": {},
   "outputs": [],
   "source": [
    "def lodaData(filePath):\n",
    "    '''\n",
    "    加载图片数据\n",
    "    :param filePath: 图片路径\n",
    "    :return:\n",
    "    '''\n",
    "    f = open(filePath, 'rb')\n",
    "    data = []\n",
    "    img = Image.open(f)\n",
    "    m, n = img.size\n",
    "    img = cv2.cvtColor(np.asarray(img),cv2.COLOR_RGB2BGR)\n",
    "    # filter\n",
    "    img = cv2.GaussianBlur(img, (5,5), 2)\n",
    "    img = cv2.medianBlur(img, 5)\n",
    "    \n",
    "    img = Image.fromarray(cv2.cvtColor(img,cv2.COLOR_BGR2RGB))\n",
    "    for i in range(m):\n",
    "        for j in range(n):\n",
    "            x, y, z = map(lambda x:x/256.0, img.getpixel((i, j)))\n",
    "            data.append([x, y, z])\n",
    "    f.close()\n",
    " \n",
    "    return np.mat(data), m, n\n",
    "\n",
    "def createGT(imgfile, outdir):\n",
    "    imgID = imgfile.split('/')[-1].split('.')[0]\n",
    "    \n",
    "    outfile = outdir + '/' + imgID + '.jpg'\n",
    "    if os.path.exists(outfile):\n",
    "        return\n",
    "    \n",
    "    imgData, row, col = lodaData('tupian/' + imgfile)\n",
    "    # 图片当中的颜色（包括背景共有）3类\n",
    "    km = KMeans(n_clusters=2)\n",
    "    # 聚类获得每个像素所属的类别\n",
    "    label = km.fit_predict(imgData)\n",
    "    label = label.reshape([row, col])\n",
    "    # 创建一张新的灰度图以保存聚类后的结果\n",
    "    # pic_new = Image.new(\"RGB\", (row, col))\n",
    "    pic_new = np.zeros((row,col))\n",
    "    # 根据类别向图片中添加像素值\n",
    "    for i in range(row):\n",
    "        for j in range(col):\n",
    "            # 填充 255\n",
    "            if label[i][j] == 0:\n",
    "                pic_new[i,j] = 255\n",
    "            # 填充 0\n",
    "            else:\n",
    "                pic_new[i,j] = 0\n",
    "    pic_new = pic_new.T\n",
    "    if pic_new[100,100] == 255:\n",
    "        pic_new = 255 - pic_new\n",
    "    pic_new = pic_new.astype(np.uint8)\n",
    "    \n",
    "    cv2.imwrite(outfile, pic_new)"
   ]
  },
  {
   "cell_type": "code",
   "execution_count": 14,
   "metadata": {},
   "outputs": [],
   "source": [
    "imgNames = os.listdir('tupian/')\n",
    "for imgName in imgNames:\n",
    "    if '.jpg' not in imgName:\n",
    "        continue \n",
    "    createGT(imgName, 'GT')"
   ]
  },
  {
   "cell_type": "code",
   "execution_count": 16,
   "metadata": {},
   "outputs": [
    {
     "data": {
      "text/plain": [
       "[576, 720, 2]"
      ]
     },
     "execution_count": 16,
     "metadata": {},
     "output_type": "execute_result"
    }
   ],
   "source": []
  },
  {
   "cell_type": "code",
   "execution_count": 18,
   "metadata": {},
   "outputs": [
    {
     "data": {
      "text/plain": [
       "(576, 720, 2)"
      ]
     },
     "execution_count": 18,
     "metadata": {},
     "output_type": "execute_result"
    }
   ],
   "source": [
    "img = cv2.imread('GT/189.jpg',cv2.IMREAD_GRAYSCALE)\n",
    "m,n = img.shape\n",
    "mask = np.ones((m,n,2))"
   ]
  },
  {
   "cell_type": "code",
   "execution_count": null,
   "metadata": {},
   "outputs": [],
   "source": []
  }
 ],
 "metadata": {
  "kernelspec": {
   "display_name": "Python 3",
   "language": "python",
   "name": "python3"
  },
  "language_info": {
   "codemirror_mode": {
    "name": "ipython",
    "version": 3
   },
   "file_extension": ".py",
   "mimetype": "text/x-python",
   "name": "python",
   "nbconvert_exporter": "python",
   "pygments_lexer": "ipython3",
   "version": "3.6.9"
  }
 },
 "nbformat": 4,
 "nbformat_minor": 2
}
