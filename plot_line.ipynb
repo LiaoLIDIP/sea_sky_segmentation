{
 "cells": [
  {
   "cell_type": "code",
   "execution_count": 2,
   "metadata": {},
   "outputs": [],
   "source": [
    "import cv2\n",
    "import os\n",
    "import matplotlib.pylab as plt\n",
    "import numpy as py"
   ]
  },
  {
   "cell_type": "code",
   "execution_count": 3,
   "metadata": {},
   "outputs": [],
   "source": [
    "cnnResPath = './testRes'\n",
    "cnnResIds = list(os.listdir(cnnResPath))\n",
    "linePath = './testResLine'"
   ]
  },
  {
   "cell_type": "code",
   "execution_count": null,
   "metadata": {},
   "outputs": [],
   "source": [
    "for img_name in cnnResIds:\n",
    "    if '.jpg' not in img_name:\n",
    "        continue\n",
    "    img = cv2.imread(cnnResPath+'/'+img_name,cv2.IMREAD_GRAYSCALE)\n",
    "    n, m = img.shape\n",
    "    fig,ax = plt.subplots()\n",
    "    ax.imshow(img,'gray')\n",
    "    for i in range(0,m):\n",
    "        for j in range(0,n):\n",
    "            if img[j,i] != 0:\n",
    "                plt.plot(i,j,'r.',)\n",
    "                plt.ylim([n-1,0])\n",
    "                # plt.xlim([m-1, 0])\n",
    "                plt.xlim([0, m-1])\n",
    "                plt.xticks([])\n",
    "                plt.yticks([])\n",
    "                break\n",
    "    fig.savefig(linePath+'/'+img_name)"
   ]
  },
  {
   "cell_type": "code",
   "execution_count": null,
   "metadata": {},
   "outputs": [],
   "source": []
  }
 ],
 "metadata": {
  "kernelspec": {
   "display_name": "Python 3",
   "language": "python",
   "name": "python3"
  },
  "language_info": {
   "codemirror_mode": {
    "name": "ipython",
    "version": 3
   },
   "file_extension": ".py",
   "mimetype": "text/x-python",
   "name": "python",
   "nbconvert_exporter": "python",
   "pygments_lexer": "ipython3",
   "version": "3.6.9"
  }
 },
 "nbformat": 4,
 "nbformat_minor": 2
}
