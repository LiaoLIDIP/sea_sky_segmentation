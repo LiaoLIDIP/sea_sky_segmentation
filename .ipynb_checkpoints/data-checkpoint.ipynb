{
 "cells": [
  {
   "cell_type": "code",
   "execution_count": 1,
   "metadata": {},
   "outputs": [],
   "source": [
    "import cv2\n",
    "import os\n",
    "import math\n",
    "import random\n",
    "import numpy as np\n",
    "from PIL import Image\n",
    "import matplotlib.pylab as plt\n",
    "from scipy.io import loadmat\n",
    "from sklearn.cluster import KMeans"
   ]
  },
  {
   "cell_type": "code",
   "execution_count": 4,
   "metadata": {},
   "outputs": [],
   "source": [
    "def lodaData(filePath):\n",
    "    '''\n",
    "    加载图片数据\n",
    "    :param filePath: 图片路径\n",
    "    :return:\n",
    "    '''\n",
    "    f = open(filePath, 'rb')\n",
    "    data = []\n",
    "    img = Image.open(f)\n",
    "    m, n = img.size\n",
    "    img = cv2.cvtColor(np.asarray(img),cv2.COLOR_RGB2BGR)\n",
    "    # filter\n",
    "    img = cv2.GaussianBlur(img, (5,5), 2)\n",
    "    img = cv2.medianBlur(img, 5)\n",
    "    \n",
    "    img = Image.fromarray(cv2.cvtColor(img,cv2.COLOR_BGR2RGB))\n",
    "    for i in range(m):\n",
    "        for j in range(n):\n",
    "            x, y, z = map(lambda x:x/256.0, img.getpixel((i, j)))\n",
    "            data.append([x, y, z])\n",
    "    f.close()\n",
    " \n",
    "    return np.mat(data), m, n\n",
    "\n",
    "def createGT(imgfile, outdir):\n",
    "    imgID = imgfile.split('.')[0]\n",
    "    \n",
    "    outfile = outdir + '/' + imgID + '.jpg'\n",
    "    if os.path.exists(outfile):\n",
    "        return\n",
    "    \n",
    "    imgData, row, col = lodaData('tupian/' + imgfile)\n",
    "    # 图片当中的颜色（包括背景共有）3类\n",
    "    km = KMeans(n_clusters=2)\n",
    "    # 聚类获得每个像素所属的类别\n",
    "    label = km.fit_predict(imgData)\n",
    "    label = label.reshape([row, col])\n",
    "    # 创建一张新的灰度图以保存聚类后的结果\n",
    "    # pic_new = Image.new(\"RGB\", (row, col))\n",
    "    pic_new = np.zeros((row,col))\n",
    "    # 根据类别向图片中添加像素值\n",
    "    for i in range(row):\n",
    "        for j in range(col):\n",
    "            # 填充 255\n",
    "            if label[i][j] == 0:\n",
    "                pic_new[i,j] = 255\n",
    "            # 填充 0\n",
    "            else:\n",
    "                pic_new[i,j] = 0\n",
    "    pic_new = pic_new.T\n",
    "    if pic_new[100,100] == 255:\n",
    "        pic_new = 255 - pic_new\n",
    "    pic_new = pic_new.astype(np.uint8)\n",
    "    \n",
    "    cv2.imwrite(outfile, pic_new)"
   ]
  },
  {
   "cell_type": "code",
   "execution_count": null,
   "metadata": {},
   "outputs": [],
   "source": [
    "imgNames = os.listdir('tupian/')\n",
    "for imgName in imgNames:\n",
    "    createGT(imgName, 'GT')"
   ]
  },
  {
   "cell_type": "code",
   "execution_count": null,
   "metadata": {},
   "outputs": [],
   "source": []
  }
 ],
 "metadata": {
  "kernelspec": {
   "display_name": "Python 3",
   "language": "python",
   "name": "python3"
  }
 },
 "nbformat": 4,
 "nbformat_minor": 2
}
